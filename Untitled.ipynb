{
 "cells": [
  {
   "cell_type": "code",
   "execution_count": null,
   "metadata": {},
   "outputs": [],
   "source": [
    "import numpy as np\n",
    "import matplotlib\n",
    "from matplotlib.patches import Circle, Wedge, Polygon, Rectangle\n",
    "from matplotlib.collections import PatchCollection\n",
    "import matplotlib.pyplot as plt\n",
    "\n",
    "# Fixing random state for reproducibility\n",
    "\n",
    "fig = plt.figure(figsize=(10,10))\n",
    "ax = plt.axes([0,0,1,1])\n",
    "\n",
    "w=int(input(\"enter width\"))\n",
    "\n",
    "h=int(input(\"enter height\"))\n",
    "a=int(input(\"enter roof angle\"))\n",
    "\n",
    "\n",
    "rect = Rectangle((3, 0), h, w, fc=\"blue\")\n",
    "\n",
    "points = [[2, 1], [8, 1], [8, 4]]\n",
    "polygon = Polygon(np.array([[0,3],[1,0],[1,1]]), fc=\"red\")\n",
    "patches.append(polygon)\n",
    "\n",
    "ax.add_artist(rect)\n",
    "ax.add_artist(polygon)\n",
    "\n",
    "ax.set_xlim(-3, 3)\n",
    "ax.set_ylim(-3, 3)\n",
    "\n",
    "\n",
    "plt.show()"
   ]
  },
  {
   "cell_type": "code",
   "execution_count": null,
   "metadata": {},
   "outputs": [],
   "source": [
    "print(\"saf\")"
   ]
  }
 ],
 "metadata": {
  "kernelspec": {
   "display_name": "Python 3",
   "language": "python",
   "name": "python3"
  },
  "language_info": {
   "codemirror_mode": {
    "name": "ipython",
    "version": 3
   },
   "file_extension": ".py",
   "mimetype": "text/x-python",
   "name": "python",
   "nbconvert_exporter": "python",
   "pygments_lexer": "ipython3",
   "version": "3.7.0"
  }
 },
 "nbformat": 4,
 "nbformat_minor": 2
}
